{
 "cells": [
  {
   "cell_type": "markdown",
   "metadata": {},
   "source": [
    "# Here's some kit for querying Gaia using the ARI interface -- not sure how quickly this gets updated on day 0, fwiw."
   ]
  },
  {
   "cell_type": "code",
   "execution_count": 1,
   "metadata": {},
   "outputs": [],
   "source": [
    "import astropy.units as u\n",
    "from astropy.coordinates import SkyCoord\n",
    "#from astroquery.gaia import Gaia\n",
    "from astroquery.simbad import Simbad\n",
    "import pyvo as vo"
   ]
  },
  {
   "cell_type": "markdown",
   "metadata": {},
   "source": [
    "Use Simbad to get the info about a particular star"
   ]
  },
  {
   "cell_type": "code",
   "execution_count": 2,
   "metadata": {},
   "outputs": [
    {
     "name": "stdout",
     "output_type": "stream",
     "text": [
      "['MAIN_ID', 'RA', 'DEC', 'RA_PREC', 'DEC_PREC', 'COO_ERR_MAJA', 'COO_ERR_MINA', 'COO_ERR_ANGLE', 'COO_QUAL', 'COO_WAVELENGTH', 'COO_BIBCODE']\n"
     ]
    }
   ],
   "source": [
    "res = Simbad.query_object(\"hd283809\")\n",
    "print(res.colnames)"
   ]
  },
  {
   "cell_type": "markdown",
   "metadata": {},
   "source": [
    "Create a coordinate object to handle getting the ra/dec in the right units"
   ]
  },
  {
   "cell_type": "code",
   "execution_count": 3,
   "metadata": {},
   "outputs": [
    {
     "name": "stdout",
     "output_type": "stream",
     "text": [
      "<SkyCoord (ICRS): (ra, dec) in deg\n",
      "    ( 70.3530175,  25.91344194)>\n"
     ]
    }
   ],
   "source": [
    "coordstr = '%s %s' % (res['RA'].data[0], res['DEC'].data[0])\n",
    "coord = SkyCoord(coordstr, unit=(u.hourangle, u.degree), frame='icrs')\n",
    "print(coord)"
   ]
  },
  {
   "cell_type": "markdown",
   "metadata": {},
   "source": [
    "Setup the TAP service"
   ]
  },
  {
   "cell_type": "code",
   "execution_count": 4,
   "metadata": {},
   "outputs": [],
   "source": [
    "tap_service = vo.dal.TAPService(\"http://gaia.ari.uni-heidelberg.de/tap\")\n",
    "\n",
    "# command to see what services are provided\n",
    "#print(tap_service.tables)"
   ]
  },
  {
   "cell_type": "markdown",
   "metadata": {},
   "source": [
    "Setup query and print results"
   ]
  },
  {
   "cell_type": "code",
   "execution_count": 5,
   "metadata": {},
   "outputs": [
    {
     "name": "stdout",
     "output_type": "stream",
     "text": [
      "9.65653244521\n",
      "2.52290900132 0.406127295103\n",
      "2224820.85804 2846.59455459\n"
     ]
    }
   ],
   "source": [
    "query_str = \"\"\"SELECT * FROM gaiadr1.gaia_source\n",
    "               WHERE CONTAINS(POINT('ICRS',ra,dec),\n",
    "               CIRCLE('ICRS',%s,%s,0.01))=1\"\"\" % (coord.ra.degree,\n",
    "                                                  coord.dec.degree)\n",
    "\n",
    "tap_results = tap_service.search(query_str)\n",
    "\n",
    "for tr in tap_results:\n",
    "    print(tr['phot_g_mean_mag'])\n",
    "    print(tr['parallax'], tr['parallax_error'])\n",
    "    print(tr['phot_g_mean_flux'], tr['phot_g_mean_flux_error'])"
   ]
  },
  {
   "cell_type": "markdown",
   "metadata": {},
   "source": [
    "# this is some kit for querying the Mock Gaia DR2"
   ]
  },
  {
   "cell_type": "code",
   "execution_count": null,
   "metadata": {},
   "outputs": [],
   "source": [
    "query_str = '''\n",
    "WITH sample AS (\n",
    "    SELECT TOP 10000 * FROM gdr2mock.main\n",
    "    WHERE (distance(ra, dec, 265.48289546, -25.4975738)<2.5) AND (parallax > 5) AND (parallax < 20) )\n",
    "SELECT ra, dec, parallax, parallax_error, a0, phot_g_mean_mag\n",
    "FROM sample'''\n",
    "\n",
    "#query_str = '''SELECT TOP 1000 * FROM gdr2mock.main'''\n",
    "\n",
    "mockgaia_tap_service = vo.dal.tap.TAPService(\"http://dc.zah.uni-heidelberg.de/tap\")\n",
    "async_tap_results = mockgaia_tap_service.run_async(query_str)"
   ]
  },
  {
   "cell_type": "code",
   "execution_count": null,
   "metadata": {},
   "outputs": [],
   "source": [
    "async_tap_results.table"
   ]
  },
  {
   "cell_type": "code",
   "execution_count": null,
   "metadata": {},
   "outputs": [],
   "source": []
  }
 ],
 "metadata": {
  "kernelspec": {
   "display_name": "Python 3",
   "language": "python",
   "name": "python3"
  },
  "language_info": {
   "codemirror_mode": {
    "name": "ipython",
    "version": 3
   },
   "file_extension": ".py",
   "mimetype": "text/x-python",
   "name": "python",
   "nbconvert_exporter": "python",
   "pygments_lexer": "ipython3",
   "version": "3.5.5"
  }
 },
 "nbformat": 4,
 "nbformat_minor": 2
}
