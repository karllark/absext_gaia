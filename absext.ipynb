{
 "cells": [
  {
   "cell_type": "code",
   "execution_count": 1,
   "metadata": {
    "collapsed": false
   },
   "outputs": [
    {
     "name": "stdout",
     "output_type": "stream",
     "text": [
      "Created TAP+ (v1.0) - Connection:\n",
      "\tHost: gea.esac.esa.int\n",
      "\tUse HTTPS: False\n",
      "\tPort: 80\n",
      "\tSSL Port: 443\n"
     ]
    }
   ],
   "source": [
    "import astropy.units as u\n",
    "from astropy.coordinates import SkyCoord\n",
    "from astroquery.gaia import Gaia\n",
    "from astroquery.simbad import Simbad\n",
    "import pyvo as vo"
   ]
  },
  {
   "cell_type": "markdown",
   "metadata": {},
   "source": [
    "Here's some kit for querying Gaia using the ARI interface -- not sure how quickly this gets updated on day 0, fwiw."
   ]
  },
  {
   "cell_type": "code",
   "execution_count": 15,
   "metadata": {
    "collapsed": false
   },
   "outputs": [
    {
     "name": "stdout",
     "output_type": "stream",
     "text": [
      "04 41 24.7242 +25 54 48.391\n",
      "<SkyCoord (ICRS): (ra, dec) in deg\n",
      "    ( 70.3530175,  25.91344194)>\n",
      "70.35301749999999 25.913441944444443\n"
     ]
    }
   ],
   "source": [
    "res = Simbad.query_object(\"hd283809\")\n",
    "# print(res.colnames)\n",
    "# print(res['RA'].data, res['DEC'].data)\n",
    "\n",
    "coordstr = '%s %s' % (res['RA'].data[0], res['DEC'].data[0])\n",
    "print(coordstr)\n",
    "coord = SkyCoord(coordstr, unit=(u.hourangle, u.degree), frame='icrs')\n",
    "width = u.Quantity(0.1, u.deg)\n",
    "height = u.Quantity(0.1, u.deg)\n",
    "print(coord)\n",
    "print(coord.ra.degree, coord.dec.degree)\n",
    "\n",
    "tap_service = vo.dal.TAPService(\"http://gaia.ari.uni-heidelberg.de/tap\")\n",
    "#print(tap_service.tables)\n"
   ]
  },
  {
   "cell_type": "code",
   "execution_count": 17,
   "metadata": {
    "collapsed": false
   },
   "outputs": [
    {
     "name": "stdout",
     "output_type": "stream",
     "text": [
      "SELECT * FROM gaiadr1.gaia_source\n",
      "               WHERE CONTAINS(POINT('ICRS',ra,dec),\n",
      "               CIRCLE('ICRS',70.35301749999999,25.913441944444443,0.01))=1\n",
      "9.65653244521\n",
      "2.52290900132 0.406127295103\n",
      "2224820.85804 2846.59455459\n"
     ]
    }
   ],
   "source": [
    "\n",
    "tap_results = tap_service.search(\"SELECT TOP 10 * FROM  gaiadr1.gaia_source\")\n",
    "\n",
    "query_str = \"\"\"SELECT * FROM gaiadr1.gaia_source\n",
    "               WHERE CONTAINS(POINT('ICRS',ra,dec),\n",
    "               CIRCLE('ICRS',%s,%s,0.01))=1\"\"\" % (coord.ra.degree,\n",
    "                                                  coord.dec.degree)\n",
    "print(query_str)\n",
    "tap_results = tap_service.search(query_str)\n",
    "#                                    CIRCLE('ICRS',70.3530175,25.91344194,0.01))=1\n",
    "\n",
    "for tr in tap_results:\n",
    "    print(tr['phot_g_mean_mag'])\n",
    "    print(tr['parallax'], tr['parallax_error'])\n",
    "    print(tr['phot_g_mean_flux'], tr['phot_g_mean_flux_error'])\n",
    "    # print(tr.keys())\n",
    "# gaiadr1.gaia_source\n",
    "\n",
    "# SELECT+*+FROM+fp_psc+WHERE+CONTAINS(POINT('J2000',ra,dec),CIRCLE('J2000',66.76957,26.10453,0.01))=1\"\n",
    "\n",
    "\n",
    "# r = Gaia.query_object_async(coordinate=coord, width=width, height=height)\n",
    "# r.pprint()"
   ]
  },
  {
   "cell_type": "markdown",
   "metadata": {},
   "source": [
    "and this is some kit for querying the Mock Gaia DR2"
   ]
  },
  {
   "cell_type": "code",
   "execution_count": 14,
   "metadata": {
    "collapsed": false
   },
   "outputs": [],
   "source": [
    "query_str = '''\n",
    "WITH sample AS (\n",
    "    SELECT TOP 10000 * FROM gdr2mock.main\n",
    "    WHERE (distance(ra, dec, 265.48289546, -25.4975738)<2.5) AND (parallax > 5) AND (parallax < 20) )\n",
    "SELECT ra, dec, parallax, parallax_error, a0, phot_g_mean_mag\n",
    "FROM sample'''\n",
    "\n",
    "#query_str = '''SELECT TOP 1000 * FROM gdr2mock.main'''\n",
    "\n",
    "mockgaia_tap_service = vo.dal.tap.TAPService(\"http://dc.zah.uni-heidelberg.de/tap\")\n",
    "async_tap_results = mockgaia_tap_service.run_async(query_str)"
   ]
  },
  {
   "cell_type": "code",
   "execution_count": 19,
   "metadata": {
    "collapsed": false
   },
   "outputs": [
    {
     "data": {
      "text/html": [
       "&lt;Table masked=True length=1559&gt;\n",
       "<table id=\"table4506135016\" class=\"table-striped table-bordered table-condensed\">\n",
       "<thead><tr><th>ra</th><th>dec</th><th>parallax</th><th>parallax_error</th><th>a0</th><th>phot_g_mean_mag</th></tr></thead>\n",
       "<thead><tr><th>deg</th><th>deg</th><th>mas</th><th>mas</th><th>mag</th><th>mag</th></tr></thead>\n",
       "<thead><tr><th>float64</th><th>float64</th><th>float32</th><th>float32</th><th>float32</th><th>float32</th></tr></thead>\n",
       "<tr><td>263.07159797955399</td><td>-26.426072976016201</td><td>5.78791</td><td>1.2517103</td><td>0.35203701</td><td>19.9951</td></tr>\n",
       "<tr><td>263.07996690573498</td><td>-26.419605452099901</td><td>5.1016998</td><td>0.29956523</td><td>0.397576</td><td>18.1213</td></tr>\n",
       "<tr><td>263.13654117702703</td><td>-26.484835402663901</td><td>6.2938299</td><td>0.090308636</td><td>0.32179901</td><td>16.0786</td></tr>\n",
       "<tr><td>263.11732055366701</td><td>-26.4567307851156</td><td>5.8276501</td><td>0.15960823</td><td>0.34956801</td><td>17.1306</td></tr>\n",
       "<tr><td>263.17194858175702</td><td>-26.455554571228099</td><td>7.36203</td><td>0.11633389</td><td>0.27667901</td><td>16.549801</td></tr>\n",
       "<tr><td>263.50060014917102</td><td>-26.487368974780001</td><td>11.0615</td><td>0.21820544</td><td>0.11764</td><td>17.6255</td></tr>\n",
       "<tr><td>263.51883342968398</td><td>-26.5015341491616</td><td>7.10569</td><td>1.0139152</td><td>0.183163</td><td>19.732401</td></tr>\n",
       "<tr><td>263.44062784468099</td><td>-26.4556499815513</td><td>5.38482</td><td>0.13045549</td><td>0.24143</td><td>16.7638</td></tr>\n",
       "<tr><td>263.99991296418602</td><td>-26.497502877989</td><td>9.8554096</td><td>0.065472603</td><td>0.146321</td><td>15.4474</td></tr>\n",
       "<tr><td>...</td><td>...</td><td>...</td><td>...</td><td>...</td><td>...</td></tr>\n",
       "<tr><td>268.013118317737</td><td>-25.002127030190501</td><td>5.9927402</td><td>0.18816918</td><td>0.121155</td><td>18.1854</td></tr>\n",
       "<tr><td>267.992293639038</td><td>-24.993588080128301</td><td>6.7208099</td><td>0.47814366</td><td>0.108062</td><td>19.4259</td></tr>\n",
       "<tr><td>267.78624047472698</td><td>-24.8618413309785</td><td>7.6371398</td><td>0.16087887</td><td>0.094987497</td><td>17.9468</td></tr>\n",
       "<tr><td>267.90312376871998</td><td>-24.859827096159101</td><td>6.9046602</td><td>0.080711477</td><td>0.105301</td><td>16.8032</td></tr>\n",
       "<tr><td>267.891498756874</td><td>-24.757092938162401</td><td>5.4015698</td><td>0.0078528319</td><td>0.13452999</td><td>11.0532</td></tr>\n",
       "<tr><td>268.09241301334498</td><td>-24.7982658965444</td><td>5.8185101</td><td>0.048404284</td><td>0.124955</td><td>15.8553</td></tr>\n",
       "<tr><td>268.112704140049</td><td>-24.787185114277399</td><td>5.1750598</td><td>0.0089599239</td><td>0.140047</td><td>12.3591</td></tr>\n",
       "<tr><td>267.46340539315401</td><td>-24.721101756617699</td><td>7.6416302</td><td>0.02812518</td><td>0.0998438</td><td>14.7489</td></tr>\n",
       "<tr><td>267.59656212941002</td><td>-24.721546905365599</td><td>6.1496501</td><td>0.87501115</td><td>0.123929</td><td>20.1581</td></tr>\n",
       "<tr><td>267.81396976654702</td><td>-24.701349603915698</td><td>5.9383502</td><td>0.51574838</td><td>0.122329</td><td>19.5219</td></tr>\n",
       "</table>"
      ],
      "text/plain": [
       "<Table masked=True length=1559>\n",
       "        ra                 dec          parallax ...      a0     phot_g_mean_mag\n",
       "       deg                 deg            mas    ...     mag           mag      \n",
       "     float64             float64        float32  ...   float32       float32    \n",
       "------------------ ------------------- --------- ... ----------- ---------------\n",
       "263.07159797955399 -26.426072976016201   5.78791 ...  0.35203701         19.9951\n",
       "263.07996690573498 -26.419605452099901 5.1016998 ...    0.397576         18.1213\n",
       "263.13654117702703 -26.484835402663901 6.2938299 ...  0.32179901         16.0786\n",
       "263.11732055366701   -26.4567307851156 5.8276501 ...  0.34956801         17.1306\n",
       "263.17194858175702 -26.455554571228099   7.36203 ...  0.27667901       16.549801\n",
       "263.50060014917102 -26.487368974780001   11.0615 ...     0.11764         17.6255\n",
       "263.51883342968398   -26.5015341491616   7.10569 ...    0.183163       19.732401\n",
       "263.44062784468099   -26.4556499815513   5.38482 ...     0.24143         16.7638\n",
       "263.99991296418602    -26.497502877989 9.8554096 ...    0.146321         15.4474\n",
       "               ...                 ...       ... ...         ...             ...\n",
       "  268.013118317737 -25.002127030190501 5.9927402 ...    0.121155         18.1854\n",
       "  267.992293639038 -24.993588080128301 6.7208099 ...    0.108062         19.4259\n",
       "267.78624047472698   -24.8618413309785 7.6371398 ... 0.094987497         17.9468\n",
       "267.90312376871998 -24.859827096159101 6.9046602 ...    0.105301         16.8032\n",
       "  267.891498756874 -24.757092938162401 5.4015698 ...  0.13452999         11.0532\n",
       "268.09241301334498   -24.7982658965444 5.8185101 ...    0.124955         15.8553\n",
       "  268.112704140049 -24.787185114277399 5.1750598 ...    0.140047         12.3591\n",
       "267.46340539315401 -24.721101756617699 7.6416302 ...   0.0998438         14.7489\n",
       "267.59656212941002 -24.721546905365599 6.1496501 ...    0.123929         20.1581\n",
       "267.81396976654702 -24.701349603915698 5.9383502 ...    0.122329         19.5219"
      ]
     },
     "execution_count": 19,
     "metadata": {},
     "output_type": "execute_result"
    }
   ],
   "source": [
    "async_tap_results.table"
   ]
  },
  {
   "cell_type": "code",
   "execution_count": null,
   "metadata": {
    "collapsed": true
   },
   "outputs": [],
   "source": []
  }
 ],
 "metadata": {
  "kernelspec": {
   "display_name": "Python [anaconda3]",
   "language": "python",
   "name": "Python [anaconda3]"
  },
  "language_info": {
   "codemirror_mode": {
    "name": "ipython",
    "version": 3
   },
   "file_extension": ".py",
   "mimetype": "text/x-python",
   "name": "python",
   "nbconvert_exporter": "python",
   "pygments_lexer": "ipython3",
   "version": "3.5.2"
  }
 },
 "nbformat": 4,
 "nbformat_minor": 2
}
